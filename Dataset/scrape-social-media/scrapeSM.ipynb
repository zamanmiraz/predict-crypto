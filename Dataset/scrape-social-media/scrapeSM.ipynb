{
 "cells": [
  {
   "cell_type": "code",
   "execution_count": 6,
   "id": "9acb9f1c",
   "metadata": {},
   "outputs": [],
   "source": [
    "import os\n",
    "from dotenv import load_dotenv\n",
    "import praw\n",
    "\n",
    "load_dotenv()  # load .env file\n",
    "\n",
    "reddit = praw.Reddit(\n",
    "    client_id=os.getenv(\"REDDIT_CLIENT_ID\"),\n",
    "    client_secret=os.getenv(\"REDDIT_CLIENT_SECRET\"),\n",
    "    user_agent=os.getenv(\"REDDIT_USER_AGENT\"),\n",
    "    username=os.getenv(\"REDDIT_USERNAME\"),\n",
    "    password=os.getenv(\"REDDIT_PASSWORD\"),\n",
    ")"
   ]
  },
  {
   "cell_type": "code",
   "execution_count": 7,
   "id": "05ec9d64",
   "metadata": {},
   "outputs": [
    {
     "name": "stdout",
     "output_type": "stream",
     "text": [
      "False\n",
      "Some test commands\n",
      "lil test here\n",
      "test\n",
      "test\n",
      "[NCAAF Game Thread] 🏈 Wagner Seahawks at Kansas Jayhawks (08/29/2025 04:30 PM)\n",
      "[NCAAF Game Thread] 🏈 Fresno State Bulldogs at Kansas Jayhawks (08/23/2025 03:30 PM)\n",
      "Missed TEXT-REGRET at the perfect moment? I did too. Here's how I flipped it.\n",
      "I wish there was a better way to run a test in a private feed\n",
      ".\n",
      "Missed SOL at the perfect moment? I did too. Here's how I flipped it.\n"
     ]
    }
   ],
   "source": [
    "print(reddit.read_only)\n",
    "for submission in reddit.subreddit(\"test\").hot(limit=10):\n",
    "    print(submission.title)"
   ]
  }
 ],
 "metadata": {
  "kernelspec": {
   "display_name": "Python 3",
   "language": "python",
   "name": "python3"
  },
  "language_info": {
   "codemirror_mode": {
    "name": "ipython",
    "version": 3
   },
   "file_extension": ".py",
   "mimetype": "text/x-python",
   "name": "python",
   "nbconvert_exporter": "python",
   "pygments_lexer": "ipython3",
   "version": "3.10.11"
  }
 },
 "nbformat": 4,
 "nbformat_minor": 5
}
