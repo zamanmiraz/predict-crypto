{
 "cells": [
  {
   "cell_type": "markdown",
   "id": "fec0f87a",
   "metadata": {},
   "source": [
    "# Exploratory Data Analysis"
   ]
  },
  {
   "cell_type": "code",
   "execution_count": 20,
   "id": "93618701",
   "metadata": {},
   "outputs": [
    {
     "name": "stdout",
     "output_type": "stream",
     "text": [
      "        date     price  market_cap  volume\n",
      "0 2013-12-15  0.000559   3488670.0     0.0\n",
      "1 2013-12-17  0.000218   1619159.0     0.0\n",
      "2 2013-12-18  0.000268   2191987.0     0.0\n",
      "3 2013-12-19  0.000475   4299422.0     0.0\n",
      "4 2013-12-20  0.000989   9866232.0     0.0\n"
     ]
    }
   ],
   "source": [
    "import pandas as pd\n",
    "import json\n",
    "\n",
    "# Load the JSON\n",
    "with open('Dataset/Dogecoin 10 years.json', 'r') as file:\n",
    "    data = json.load(file)\n",
    "\n",
    "# Extract the 'prices' list (it's inside the first record)\n",
    "# The JSON structure is [{'prices': [...], 'market_caps': [...], 'total_volumes': [...]}, ...]\n",
    "# Each list contains sublists with [timestamp, value]\n",
    "\n",
    "prices = data['prices']  # list of [timestamp, price]\n",
    "market_caps = data['market_caps'] # list of [timestamp, market_cap]\n",
    "volumes = data['total_volumes'] # list of [timestamp, volume]\n",
    "\n",
    "# Convert to DataFrame\n",
    "df_prices = pd.DataFrame(prices, columns=['timestamp', 'price'])\n",
    "df_caps = pd.DataFrame(market_caps, columns=['timestamp', 'market_cap'])\n",
    "df_volumes = pd.DataFrame(volumes, columns=['timestamp', 'volume'])\n",
    "\n",
    "# Merge on timestamp\n",
    "df = df_prices.merge(df_caps, on='timestamp').merge(df_volumes, on='timestamp')\n",
    "\n",
    "# Convert timestamp to datetime\n",
    "df['date'] = pd.to_datetime(df['timestamp'], unit='ms')\n",
    "\n",
    "# Rearrange columns\n",
    "df = df[['date', 'price', 'market_cap', 'volume']]\n",
    "\n",
    "# Preview\n",
    "print(df.head())\n"
   ]
  }
 ],
 "metadata": {
  "kernelspec": {
   "display_name": "Python 3",
   "language": "python",
   "name": "python3"
  },
  "language_info": {
   "codemirror_mode": {
    "name": "ipython",
    "version": 3
   },
   "file_extension": ".py",
   "mimetype": "text/x-python",
   "name": "python",
   "nbconvert_exporter": "python",
   "pygments_lexer": "ipython3",
   "version": "3.10.11"
  }
 },
 "nbformat": 4,
 "nbformat_minor": 5
}
