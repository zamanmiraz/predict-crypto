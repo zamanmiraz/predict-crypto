{
 "cells": [
  {
   "cell_type": "code",
   "execution_count": 27,
   "id": "fd37878b",
   "metadata": {},
   "outputs": [
    {
     "name": "stdout",
     "output_type": "stream",
     "text": [
      "Mean Squared Error: 0.0000\n",
      "R² Score: 0.9995\n"
     ]
    }
   ],
   "source": [
    "import pandas as pd\n",
    "import numpy as np\n",
    "from sklearn.model_selection import train_test_split\n",
    "from sklearn.linear_model import LinearRegression\n",
    "from sklearn.metrics import mean_squared_error, r2_score\n",
    "\n",
    "# Load dataset\n",
    "df = pd.read_csv('Dataset\\dogecoin_10_years.csv')\n",
    "\n",
    "# Drop rows with missing values\n",
    "df.dropna(inplace=True)\n",
    "\n",
    "# Features and target\n",
    "X = df[['market_cap', 'volume']]  # You can add more features if available\n",
    "y = df['price']\n",
    "\n",
    "# Train-test split\n",
    "X_train, X_test, y_train, y_test = train_test_split(X, y, test_size=0.2, random_state=42)\n",
    "\n",
    "# Initialize and train the model\n",
    "model = LinearRegression()\n",
    "model.fit(X_train, y_train)\n",
    "\n",
    "# Predict\n",
    "y_pred = model.predict(X_test)\n",
    "\n",
    "# Evaluation\n",
    "mse = mean_squared_error(y_test, y_pred)\n",
    "r2 = r2_score(y_test, y_pred)\n",
    "\n",
    "print(f\"Mean Squared Error: {mse:.4f}\")\n",
    "print(f\"R² Score: {r2:.4f}\")\n"
   ]
  },
  {
   "cell_type": "code",
   "execution_count": 9,
   "id": "290d3d70",
   "metadata": {},
   "outputs": [
    {
     "name": "stdout",
     "output_type": "stream",
     "text": [
      "               price  market_cap    volume\n",
      "price       1.000000    0.999743  0.629009\n",
      "market_cap  0.999743    1.000000  0.623960\n",
      "volume      0.629009    0.623960  1.000000\n"
     ]
    }
   ],
   "source": [
    "print(df[['price', 'market_cap', 'volume']].corr())\n"
   ]
  },
  {
   "cell_type": "markdown",
   "id": "9eb9b383",
   "metadata": {},
   "source": [
    "From the correlation matrix, we can see that market cap and price is correlated. Now there are two options:\n",
    "- Building a time aware model: Model depend on the past data instead of the derived current values.\n",
    "- Remove market cap from the features\n",
    "I will focus more one first option as it could be more realistic"
   ]
  },
  {
   "cell_type": "markdown",
   "id": "0506070e",
   "metadata": {},
   "source": [
    "# Building a time-aware model"
   ]
  },
  {
   "cell_type": "markdown",
   "id": "f0aaa025",
   "metadata": {},
   "source": [
    "## Using market cap lag 1"
   ]
  },
  {
   "cell_type": "code",
   "execution_count": null,
   "id": "980e893b",
   "metadata": {},
   "outputs": [
    {
     "name": "stdout",
     "output_type": "stream",
     "text": [
      "Mean Squared Error: 0.0001\n",
      "R² Score: 0.9855\n"
     ]
    }
   ],
   "source": [
    "# Shifting features one day back to create lag features and time series analysis\n",
    "df['market_cap_lag1'] = df['market_cap'].shift(1)\n",
    "df['volume_lag1'] = df['volume'].shift(1)\n",
    "df.dropna(inplace=True)\n",
    "\n",
    "X = df[['market_cap_lag1', 'volume_lag1']]\n",
    "y = df['price']\n",
    "# Train-test split\n",
    "X_train, X_test, y_train, y_test = train_test_split(X, y, test_size=0.2, random_state=42)\n",
    "\n",
    "# Initialize and train the model\n",
    "model = LinearRegression()\n",
    "model.fit(X_train, y_train)\n",
    "\n",
    "# Predict\n",
    "y_pred = model.predict(X_test)\n",
    "\n",
    "# Evaluation\n",
    "mse = mean_squared_error(y_test, y_pred)\n",
    "r2 = r2_score(y_test, y_pred)\n",
    "\n",
    "print(f\"Mean Squared Error: {mse:.4f}\")\n",
    "print(f\"R² Score: {r2:.4f}\")\n"
   ]
  },
  {
   "cell_type": "markdown",
   "id": "b4ce92d4",
   "metadata": {},
   "source": [
    "## Using market cap lag 1, price lag 1"
   ]
  },
  {
   "cell_type": "code",
   "execution_count": 23,
   "id": "9d95d12d",
   "metadata": {},
   "outputs": [
    {
     "name": "stdout",
     "output_type": "stream",
     "text": [
      "Mean Squared Error: 0.0001\n",
      "R² Score: 0.9871\n"
     ]
    }
   ],
   "source": [
    "# Shifting features one day back to create lag features and time series analysis\n",
    "df['price_lag1'] = df['price'].shift(1)\n",
    "df['market_cap_lag1'] = df['market_cap'].shift(1)\n",
    "df['volume_lag1'] = df['volume'].shift(1)\n",
    "df.dropna(inplace=True)\n",
    "\n",
    "X = df[['price_lag1', 'market_cap_lag1', 'volume_lag1']]\n",
    "y = df['price']\n",
    "# Train-test split\n",
    "X_train, X_test, y_train, y_test = train_test_split(X, y, test_size=0.2, random_state=42)\n",
    "\n",
    "# Initialize and train the model\n",
    "model = LinearRegression()\n",
    "model.fit(X_train, y_train)\n",
    "\n",
    "# Predict\n",
    "y_pred = model.predict(X_test)\n",
    "\n",
    "# Evaluation\n",
    "mse = mean_squared_error(y_test, y_pred)\n",
    "r2 = r2_score(y_test, y_pred)\n",
    "\n",
    "print(f\"Mean Squared Error: {mse:.4f}\")\n",
    "print(f\"R² Score: {r2:.4f}\")\n"
   ]
  },
  {
   "cell_type": "markdown",
   "id": "9f33cb41",
   "metadata": {},
   "source": [
    "We can see that $MSE$ and $R^2$ error showing good result for both the cases in above. Another possible reason to get so accurate result is testing and splitting in random manner. Lets do it in chornological manner"
   ]
  },
  {
   "cell_type": "markdown",
   "id": "ad685f45",
   "metadata": {},
   "source": [
    "## Splitting the data in chronological manner "
   ]
  },
  {
   "cell_type": "code",
   "execution_count": 28,
   "id": "b24f4e31",
   "metadata": {},
   "outputs": [
    {
     "name": "stdout",
     "output_type": "stream",
     "text": [
      "Mean Squared Error: 0.0002\n",
      "R² Score: 0.9738\n"
     ]
    }
   ],
   "source": [
    "# Step 1: Sort by date (if not already sorted)\n",
    "df['price_lag1'] = df['price'].shift(1)\n",
    "df['market_cap_lag1'] = df['market_cap'].shift(1)\n",
    "df['volume_lag1'] = df['volume'].shift(1)\n",
    "df.dropna(inplace=True)\n",
    "df = df.sort_values('date')\n",
    "\n",
    "# Step 2: Define train size (for example: 80% for training)\n",
    "train_size = int(len(df) * 0.7)\n",
    "\n",
    "# Step 3: Split chronologically\n",
    "X = df[['price_lag1', 'market_cap_lag1', 'volume_lag1']]\n",
    "y = df['price']\n",
    "\n",
    "X_train = X.iloc[:train_size]\n",
    "X_test = X.iloc[train_size:]\n",
    "\n",
    "y_train = y.iloc[:train_size]\n",
    "y_test = y.iloc[train_size:]\n",
    "\n",
    "# Step 4: Train the model\n",
    "model = LinearRegression()\n",
    "model.fit(X_train, y_train)\n",
    "\n",
    "# Step 5: Predict and evaluate\n",
    "y_pred = model.predict(X_test)\n",
    "\n",
    "mse = mean_squared_error(y_test, y_pred)\n",
    "r2 = r2_score(y_test, y_pred)\n",
    "\n",
    "print(f\"Mean Squared Error: {mse:.4f}\")\n",
    "print(f\"R² Score: {r2:.4f}\")\n"
   ]
  },
  {
   "cell_type": "markdown",
   "id": "a3b2a319",
   "metadata": {},
   "source": [
    "Next step to add more recent data"
   ]
  },
  {
   "cell_type": "code",
   "execution_count": null,
   "id": "d1c18908",
   "metadata": {},
   "outputs": [
    {
     "data": {
      "text/html": [
       "<div>\n",
       "<style scoped>\n",
       "    .dataframe tbody tr th:only-of-type {\n",
       "        vertical-align: middle;\n",
       "    }\n",
       "\n",
       "    .dataframe tbody tr th {\n",
       "        vertical-align: top;\n",
       "    }\n",
       "\n",
       "    .dataframe thead th {\n",
       "        text-align: right;\n",
       "    }\n",
       "</style>\n",
       "<table border=\"1\" class=\"dataframe\">\n",
       "  <thead>\n",
       "    <tr style=\"text-align: right;\">\n",
       "      <th></th>\n",
       "      <th>date</th>\n",
       "      <th>price</th>\n",
       "      <th>market_cap</th>\n",
       "      <th>volume</th>\n",
       "      <th>market_cap_lag1</th>\n",
       "      <th>volume_lag1</th>\n",
       "    </tr>\n",
       "  </thead>\n",
       "  <tbody>\n",
       "    <tr>\n",
       "      <th>1</th>\n",
       "      <td>2013-12-17 00:00:00.000</td>\n",
       "      <td>0.000218</td>\n",
       "      <td>1619159.0</td>\n",
       "      <td>0.0</td>\n",
       "      <td>3488670.0</td>\n",
       "      <td>0.0</td>\n",
       "    </tr>\n",
       "    <tr>\n",
       "      <th>2</th>\n",
       "      <td>2013-12-18 00:00:00.000</td>\n",
       "      <td>0.000268</td>\n",
       "      <td>2191987.0</td>\n",
       "      <td>0.0</td>\n",
       "      <td>1619159.0</td>\n",
       "      <td>0.0</td>\n",
       "    </tr>\n",
       "    <tr>\n",
       "      <th>3</th>\n",
       "      <td>2013-12-19 00:00:00.000</td>\n",
       "      <td>0.000475</td>\n",
       "      <td>4299422.0</td>\n",
       "      <td>0.0</td>\n",
       "      <td>2191987.0</td>\n",
       "      <td>0.0</td>\n",
       "    </tr>\n",
       "    <tr>\n",
       "      <th>4</th>\n",
       "      <td>2013-12-20 00:00:00.000</td>\n",
       "      <td>0.000989</td>\n",
       "      <td>9866232.0</td>\n",
       "      <td>0.0</td>\n",
       "      <td>4299422.0</td>\n",
       "      <td>0.0</td>\n",
       "    </tr>\n",
       "    <tr>\n",
       "      <th>5</th>\n",
       "      <td>2013-12-21 00:00:00.000</td>\n",
       "      <td>0.000438</td>\n",
       "      <td>4686300.0</td>\n",
       "      <td>0.0</td>\n",
       "      <td>9866232.0</td>\n",
       "      <td>0.0</td>\n",
       "    </tr>\n",
       "  </tbody>\n",
       "</table>\n",
       "</div>"
      ],
      "text/plain": [
       "                      date     price  market_cap  volume  market_cap_lag1  \\\n",
       "1  2013-12-17 00:00:00.000  0.000218   1619159.0     0.0        3488670.0   \n",
       "2  2013-12-18 00:00:00.000  0.000268   2191987.0     0.0        1619159.0   \n",
       "3  2013-12-19 00:00:00.000  0.000475   4299422.0     0.0        2191987.0   \n",
       "4  2013-12-20 00:00:00.000  0.000989   9866232.0     0.0        4299422.0   \n",
       "5  2013-12-21 00:00:00.000  0.000438   4686300.0     0.0        9866232.0   \n",
       "\n",
       "   volume_lag1  \n",
       "1          0.0  \n",
       "2          0.0  \n",
       "3          0.0  \n",
       "4          0.0  \n",
       "5          0.0  "
      ]
     },
     "execution_count": 14,
     "metadata": {},
     "output_type": "execute_result"
    }
   ],
   "source": [
    "import matplotlib.pyplot as plt\n",
    "\n",
    "plt.figure(figsize=(10, 6))\n",
    "plt.plot(y_test.values, label='Actual Price', color='blue')\n",
    "plt.plot(y_pred, label='Predicted Price', color='red', linestyle='--')\n",
    "plt.title('Actual vs Predicted Dogecoin Prices')\n",
    "plt.xlabel('Samples')\n",
    "plt.ylabel('Price (USD)')\n",
    "plt.legend()\n",
    "plt.grid(True)\n",
    "plt.tight_layout()\n",
    "plt.show()\n"
   ]
  }
 ],
 "metadata": {
  "kernelspec": {
   "display_name": "Python 3",
   "language": "python",
   "name": "python3"
  },
  "language_info": {
   "codemirror_mode": {
    "name": "ipython",
    "version": 3
   },
   "file_extension": ".py",
   "mimetype": "text/x-python",
   "name": "python",
   "nbconvert_exporter": "python",
   "pygments_lexer": "ipython3",
   "version": "3.10.11"
  }
 },
 "nbformat": 4,
 "nbformat_minor": 5
}
